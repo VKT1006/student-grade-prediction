{
 "cells": [
  {
   "cell_type": "markdown",
   "id": "9dfc9502",
   "metadata": {},
   "source": [
    "# Student Performance "
   ]
  },
  {
   "cell_type": "code",
   "execution_count": 1,
   "id": "ef57a38f",
   "metadata": {},
   "outputs": [],
   "source": [
    "import pandas as pd\n",
    "import numpy as np\n",
    "from sklearn.linear_model import LinearRegression\n",
    "from sklearn.model_selection import train_test_split"
   ]
  },
  {
   "cell_type": "code",
   "execution_count": 2,
   "id": "f266fce9",
   "metadata": {},
   "outputs": [],
   "source": [
    "data = pd.read_csv(\"student-mat.csv\", sep=\";\")\n",
    "df = data.copy()"
   ]
  },
  {
   "cell_type": "code",
   "execution_count": 3,
   "id": "ff125fc5",
   "metadata": {},
   "outputs": [],
   "source": [
    "X = df[[\"G1\", \"G2\", \"studytime\", \"failures\", \"absences\"]]\n",
    "y = df[\"G3\"]"
   ]
  },
  {
   "cell_type": "code",
   "execution_count": 4,
   "id": "6191bb86",
   "metadata": {},
   "outputs": [],
   "source": [
    "X_train, X_test, y_train, y_test = train_test_split(X, y, test_size=0.1)"
   ]
  },
  {
   "cell_type": "code",
   "execution_count": 5,
   "id": "66a7a16e",
   "metadata": {},
   "outputs": [],
   "source": [
    "lm = LinearRegression()\n",
    "lm_model = lm.fit(X_train, y_train)"
   ]
  },
  {
   "cell_type": "code",
   "execution_count": 6,
   "id": "4c4fa45d",
   "metadata": {},
   "outputs": [
    {
     "data": {
      "text/plain": [
       "0.8246741122963238"
      ]
     },
     "execution_count": 6,
     "metadata": {},
     "output_type": "execute_result"
    }
   ],
   "source": [
    "lm.score(X_test, y_test)"
   ]
  },
  {
   "cell_type": "code",
   "execution_count": 7,
   "id": "d7b32bca",
   "metadata": {},
   "outputs": [],
   "source": [
    "y_pred = lm_model.predict(X_test)"
   ]
  },
  {
   "cell_type": "code",
   "execution_count": 8,
   "id": "fe879da2",
   "metadata": {
    "scrolled": true
   },
   "outputs": [
    {
     "name": "stdout",
     "output_type": "stream",
     "text": [
      "Variables :  [10, 9, 3, 0, 7]  prediction:  8.606078397760013  Actual value :  9\n",
      "Variables :  [16, 15, 3, 0, 16]  prediction:  15.700175581511562  Actual value :  15\n",
      "Variables :  [11, 11, 2, 0, 12]  prediction:  11.001434914364381  Actual value :  11\n",
      "Variables :  [9, 11, 3, 0, 2]  prediction:  10.216677349766277  Actual value :  11\n",
      "Variables :  [10, 11, 1, 0, 8]  prediction:  10.826027935287703  Actual value :  10\n",
      "Variables :  [6, 6, 2, 2, 22]  prediction:  5.183590516246344  Actual value :  4\n",
      "Variables :  [7, 0, 3, 0, 0]  prediction:  -0.8531358472271385  Actual value :  0\n",
      "Variables :  [11, 11, 2, 0, 4]  prediction:  10.726682335123678  Actual value :  11\n",
      "Variables :  [7, 7, 1, 0, 3]  prediction:  6.290756395192941  Actual value :  8\n",
      "Variables :  [12, 14, 1, 0, 0]  prediction:  13.783993112098695  Actual value :  15\n",
      "Variables :  [8, 7, 2, 0, 6]  prediction:  6.431819301864531  Actual value :  9\n",
      "Variables :  [18, 18, 1, 0, 6]  prediction:  18.832956254602095  Actual value :  18\n",
      "Variables :  [15, 15, 2, 0, 0]  prediction:  15.112639733573829  Actual value :  15\n",
      "Variables :  [13, 15, 1, 0, 0]  prediction:  14.914826534116322  Actual value :  15\n",
      "Variables :  [8, 11, 2, 0, 0]  prediction:  10.109958515499775  Actual value :  11\n",
      "Variables :  [8, 8, 1, 3, 2]  prediction:  6.6265687266843045  Actual value :  10\n",
      "Variables :  [11, 11, 1, 0, 0]  prediction:  10.711057866048183  Actual value :  12\n",
      "Variables :  [13, 13, 2, 0, 0]  prediction:  12.850972889538578  Actual value :  12\n",
      "Variables :  [6, 5, 1, 2, 0]  prediction:  3.5787218318628247  Actual value :  0\n",
      "Variables :  [8, 7, 1, 1, 7]  prediction:  6.334356188774084  Actual value :  8\n",
      "Variables :  [8, 8, 2, 0, 2]  prediction:  7.265493924260623  Actual value :  8\n",
      "Variables :  [14, 12, 2, 0, 20]  prediction:  12.726585935625076  Actual value :  13\n",
      "Variables :  [17, 16, 2, 0, 0]  prediction:  16.40325566559264  Actual value :  16\n",
      "Variables :  [12, 13, 1, 1, 6]  prediction:  12.765447628472387  Actual value :  14\n",
      "Variables :  [7, 6, 1, 2, 0]  prediction:  4.709555253880451  Actual value :  0\n",
      "Variables :  [13, 13, 2, 0, 0]  prediction:  12.850972889538578  Actual value :  13\n",
      "Variables :  [11, 13, 1, 1, 10]  prediction:  12.743041408091555  Actual value :  13\n",
      "Variables :  [10, 10, 2, 0, 2]  prediction:  9.527160768295875  Actual value :  11\n",
      "Variables :  [10, 10, 1, 0, 2]  prediction:  9.648912588840734  Actual value :  10\n",
      "Variables :  [15, 14, 3, 0, 2]  prediction:  14.088525145822706  Actual value :  15\n",
      "Variables :  [12, 11, 1, 1, 16]  prediction:  11.166786528490382  Actual value :  12\n",
      "Variables :  [7, 6, 1, 0, 18]  prediction:  5.834866569252817  Actual value :  6\n",
      "Variables :  [15, 14, 2, 0, 4]  prediction:  14.27896511117774  Actual value :  14\n",
      "Variables :  [9, 0, 2, 0, 0]  prediction:  -0.4118190066799139  Actual value :  0\n",
      "Variables :  [6, 10, 2, 0, 4]  prediction:  8.956718873101318  Actual value :  10\n",
      "Variables :  [10, 9, 4, 0, 0]  prediction:  8.243918070379541  Actual value :  0\n",
      "Variables :  [10, 9, 3, 0, 4]  prediction:  8.50304618054475  Actual value :  9\n",
      "Variables :  [11, 11, 1, 0, 0]  prediction:  10.711057866048183  Actual value :  10\n",
      "Variables :  [6, 6, 2, 1, 13]  prediction:  5.1280528706409445  Actual value :  8\n",
      "Variables :  [13, 10, 2, 1, 22]  prediction:  10.439830740360792  Actual value :  11\n"
     ]
    }
   ],
   "source": [
    "for i in range(len(X_test)):\n",
    "    print(\"Variables : \",list(X_test.values[i]), \n",
    "          \" prediction: \", y_pred[i], \n",
    "          \" Actual value : \", y_test.values[i])\n",
    "    "
   ]
  }
 ],
 "metadata": {
  "kernelspec": {
   "display_name": "Python 3 (ipykernel)",
   "language": "python",
   "name": "python3"
  },
  "language_info": {
   "codemirror_mode": {
    "name": "ipython",
    "version": 3
   },
   "file_extension": ".py",
   "mimetype": "text/x-python",
   "name": "python",
   "nbconvert_exporter": "python",
   "pygments_lexer": "ipython3",
   "version": "3.9.15"
  }
 },
 "nbformat": 4,
 "nbformat_minor": 5
}
